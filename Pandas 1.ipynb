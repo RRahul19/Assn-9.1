{
 "cells": [
  {
   "cell_type": "code",
   "execution_count": 3,
   "metadata": {},
   "outputs": [
    {
     "data": {
      "text/html": [
       "<div>\n",
       "<style scoped>\n",
       "    .dataframe tbody tr th:only-of-type {\n",
       "        vertical-align: middle;\n",
       "    }\n",
       "\n",
       "    .dataframe tbody tr th {\n",
       "        vertical-align: top;\n",
       "    }\n",
       "\n",
       "    .dataframe thead th {\n",
       "        text-align: right;\n",
       "    }\n",
       "</style>\n",
       "<table border=\"1\" class=\"dataframe\">\n",
       "  <thead>\n",
       "    <tr style=\"text-align: right;\">\n",
       "      <th></th>\n",
       "      <th>X</th>\n",
       "      <th>Y</th>\n",
       "    </tr>\n",
       "  </thead>\n",
       "  <tbody>\n",
       "    <tr>\n",
       "      <th>0</th>\n",
       "      <td>7</td>\n",
       "      <td>1</td>\n",
       "    </tr>\n",
       "    <tr>\n",
       "      <th>1</th>\n",
       "      <td>2</td>\n",
       "      <td>2</td>\n",
       "    </tr>\n",
       "    <tr>\n",
       "      <th>2</th>\n",
       "      <td>0</td>\n",
       "      <td>0</td>\n",
       "    </tr>\n",
       "    <tr>\n",
       "      <th>3</th>\n",
       "      <td>3</td>\n",
       "      <td>1</td>\n",
       "    </tr>\n",
       "    <tr>\n",
       "      <th>4</th>\n",
       "      <td>4</td>\n",
       "      <td>2</td>\n",
       "    </tr>\n",
       "    <tr>\n",
       "      <th>5</th>\n",
       "      <td>2</td>\n",
       "      <td>3</td>\n",
       "    </tr>\n",
       "    <tr>\n",
       "      <th>6</th>\n",
       "      <td>5</td>\n",
       "      <td>4</td>\n",
       "    </tr>\n",
       "    <tr>\n",
       "      <th>7</th>\n",
       "      <td>0</td>\n",
       "      <td>0</td>\n",
       "    </tr>\n",
       "    <tr>\n",
       "      <th>8</th>\n",
       "      <td>3</td>\n",
       "      <td>1</td>\n",
       "    </tr>\n",
       "    <tr>\n",
       "      <th>9</th>\n",
       "      <td>4</td>\n",
       "      <td>2</td>\n",
       "    </tr>\n",
       "  </tbody>\n",
       "</table>\n",
       "</div>"
      ],
      "text/plain": [
       "   X  Y\n",
       "0  7  1\n",
       "1  2  2\n",
       "2  0  0\n",
       "3  3  1\n",
       "4  4  2\n",
       "5  2  3\n",
       "6  5  4\n",
       "7  0  0\n",
       "8  3  1\n",
       "9  4  2"
      ]
     },
     "execution_count": 3,
     "metadata": {},
     "output_type": "execute_result"
    }
   ],
   "source": [
    "#PROBLEM STATEMENT 1\n",
    "\n",
    "'''How-to-count-distance-to-the-previous-zero. For each value, count the difference back to the previous zero (or the start of \n",
    "the Series, whichever is closer).\n",
    "Create a new column 'Y'\n",
    "Consider a DataFrame df where there is an integer column 'X'\n",
    "import pandas as pd\n",
    "df = pd.DataFrame({'X': [7, 2, 0, 3, 4, 2, 5, 0, 3, 4]})'''\n",
    "\n",
    "\n",
    "'''Solution'''\n",
    "import numpy as np\n",
    "import pandas as pd \n",
    "\n",
    "df = pd.DataFrame({'X': [7, 2, 0, 3, 4, 2, 5, 0, 3, 4]})\n",
    "mylist = []\n",
    "count = 0\n",
    "for index, row in df.iterrows():\n",
    "    if row['X'] == 0:\n",
    "        count = 0\n",
    "    else:\n",
    "        count += 1\n",
    "    mylist.append(count)\n",
    "\n",
    "df['Y'] = mylist\n",
    "df\n"
   ]
  },
  {
   "cell_type": "code",
   "execution_count": 4,
   "metadata": {},
   "outputs": [
    {
     "name": "stdout",
     "output_type": "stream",
     "text": [
      "The random number series with date index is:\n",
      " 2015-01-01    1.291409\n",
      "2015-01-02   -0.627848\n",
      "2015-01-05    0.527191\n",
      "2015-01-06    0.856309\n",
      "2015-01-07   -0.813148\n",
      "2015-01-08   -1.272697\n",
      "2015-01-09    1.165275\n",
      "2015-01-12   -0.294437\n",
      "2015-01-13    0.365990\n",
      "2015-01-14   -1.915097\n",
      "2015-01-15    0.442565\n",
      "2015-01-16   -0.511242\n",
      "2015-01-19   -2.088591\n",
      "2015-01-20   -0.233255\n",
      "2015-01-21    0.345187\n",
      "2015-01-22    0.825151\n",
      "2015-01-23   -0.159876\n",
      "2015-01-26   -0.737991\n",
      "2015-01-27    0.117374\n",
      "2015-01-28    0.424883\n",
      "2015-01-29   -0.447569\n",
      "2015-01-30    0.810138\n",
      "2015-02-02   -0.732402\n",
      "2015-02-03   -1.088756\n",
      "2015-02-04   -1.115718\n",
      "2015-02-05    0.232317\n",
      "2015-02-06   -0.730290\n",
      "2015-02-09   -1.153951\n",
      "2015-02-10    2.229306\n",
      "2015-02-11   -1.465457\n",
      "                ...   \n",
      "2015-11-20    0.231516\n",
      "2015-11-23   -0.249322\n",
      "2015-11-24    2.060228\n",
      "2015-11-25    0.855036\n",
      "2015-11-26   -0.260757\n",
      "2015-11-27    0.727360\n",
      "2015-11-30   -1.180127\n",
      "2015-12-01   -0.343688\n",
      "2015-12-02   -1.742157\n",
      "2015-12-03   -0.748608\n",
      "2015-12-04    0.916499\n",
      "2015-12-07   -0.696501\n",
      "2015-12-08   -0.127817\n",
      "2015-12-09   -0.016805\n",
      "2015-12-10   -1.013128\n",
      "2015-12-11   -0.278387\n",
      "2015-12-14    0.703159\n",
      "2015-12-15   -0.423875\n",
      "2015-12-16   -1.200896\n",
      "2015-12-17   -1.502121\n",
      "2015-12-18   -0.958077\n",
      "2015-12-21   -1.530218\n",
      "2015-12-22   -0.346546\n",
      "2015-12-23    0.374620\n",
      "2015-12-24    0.752483\n",
      "2015-12-25    2.525517\n",
      "2015-12-28    0.146859\n",
      "2015-12-29    0.419336\n",
      "2015-12-30   -0.447939\n",
      "2015-12-31   -0.241732\n",
      "Freq: B, Length: 261, dtype: float64\n"
     ]
    }
   ],
   "source": [
    "#2) Create a DatetimeIndex that contains each business day of 2015 and use it to index a Series of random numbers.\n",
    "\n",
    "#solution\n",
    "\n",
    "import numpy as np\n",
    "import pandas as pd\n",
    "\n",
    "Date_2015_BD = pd.date_range('1/1/2015', '12/31/2015', freq='B')\n",
    "date_randn_index = pd.Series(np.random.randn(Date_2015_BD.size), index=Date_2015_BD)\n",
    "print(\"The random number series with date index is:\\n\",date_randn_index)\n"
   ]
  },
  {
   "cell_type": "code",
   "execution_count": 5,
   "metadata": {},
   "outputs": [
    {
     "name": "stdout",
     "output_type": "stream",
     "text": [
      "The sum of the values in the series for every Wednesday is: 2.9122963036137786 \n",
      "\n"
     ]
    }
   ],
   "source": [
    "#3) Find the sum of the values in s for every Wednesday\n",
    "\n",
    "#solution\n",
    "\n",
    "sum_wed = date_randn_index.loc[date_randn_index.index.weekday==2].sum()\n",
    "print(\"The sum of the values in the series for every Wednesday is:\", sum_wed, \"\\n\")"
   ]
  },
  {
   "cell_type": "code",
   "execution_count": 6,
   "metadata": {},
   "outputs": [
    {
     "name": "stdout",
     "output_type": "stream",
     "text": [
      "Average for each calendar month:\n",
      "\n",
      " 2015-01-31   -0.087740\n",
      "2015-02-28   -0.104883\n",
      "2015-03-31   -0.096796\n",
      "2015-04-30   -0.076020\n",
      "2015-05-31    0.215542\n",
      "2015-06-30    0.660959\n",
      "2015-07-31    0.305348\n",
      "2015-08-31    0.156350\n",
      "2015-09-30    0.145139\n",
      "2015-10-31    0.341532\n",
      "2015-11-30    0.228276\n",
      "2015-12-31   -0.251305\n",
      "Freq: M, dtype: float64 \n",
      "\n"
     ]
    }
   ],
   "source": [
    "#4) Average For each calendar month\n",
    "\n",
    "#solution\n",
    "\n",
    "Avg_for_month = date_randn_index.resample('M').mean()\n",
    "print(\"Average for each calendar month:\\n\\n\",Avg_for_month , \"\\n\")"
   ]
  },
  {
   "cell_type": "code",
   "execution_count": 8,
   "metadata": {},
   "outputs": [
    {
     "name": "stdout",
     "output_type": "stream",
     "text": [
      "The dates where the highest value occurred in four consecutive months are:\n",
      " 2015-04-09 00:00:00 \n",
      " 2015-06-24 00:00:00 \n",
      " 2015-12-25 00:00:00\n"
     ]
    },
    {
     "name": "stderr",
     "output_type": "stream",
     "text": [
      "F:\\Data Science\\New folder\\lib\\site-packages\\numpy\\core\\fromnumeric.py:52: FutureWarning: 'argmax' is deprecated. Use 'idxmax' instead. The behavior of 'argmax' will be corrected to return the positional maximum in the future. Use 'series.values.argmax' to get the position of the maximum now.\n",
      "  return getattr(obj, method)(*args, **kwds)\n"
     ]
    }
   ],
   "source": [
    "#5) For each group of four consecutive calendar months in s, find the date on which the highest value occurred.\n",
    "\n",
    "#solution\n",
    "\n",
    "date_max = date_randn_index.resample('4M', closed='left').agg({np.argmax})\n",
    "print(\"The dates where the highest value occurred in four consecutive months are:\\n\",date_max.argmax[0], \"\\n\", date_max.argmax[1],\"\\n\", date_max.argmax[2])\n",
    "\n",
    "\n"
   ]
  },
  {
   "cell_type": "code",
   "execution_count": null,
   "metadata": {},
   "outputs": [],
   "source": []
  }
 ],
 "metadata": {
  "kernelspec": {
   "display_name": "Python 3",
   "language": "python",
   "name": "python3"
  },
  "language_info": {
   "codemirror_mode": {
    "name": "ipython",
    "version": 3
   },
   "file_extension": ".py",
   "mimetype": "text/x-python",
   "name": "python",
   "nbconvert_exporter": "python",
   "pygments_lexer": "ipython3",
   "version": "3.6.4"
  }
 },
 "nbformat": 4,
 "nbformat_minor": 2
}
